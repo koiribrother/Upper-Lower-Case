{
 "cells": [
  {
   "cell_type": "code",
   "execution_count": 3,
   "id": "52ad9d96",
   "metadata": {},
   "outputs": [
    {
     "name": "stdout",
     "output_type": "stream",
     "text": [
      "The Given Character  ram is a Lowercase Alphabet\n"
     ]
    }
   ],
   "source": [
    "# Python Program to find character is Lowercase or not\n",
    "\n",
    "ch = input(\"Please Enter Your Own Character : \")\n",
    "\n",
    "if(ch >= 'a' and ch <= 'z'):\n",
    "    print(\"The Given Character \", ch, \"is a Lowercase Alphabet\")\n",
    "else:\n",
    "    print(\"The Given Character \", ch, \"is Not a Lowercase Alphabet\")"
   ]
  },
  {
   "cell_type": "code",
   "execution_count": 5,
   "id": "b7535c70",
   "metadata": {},
   "outputs": [
    {
     "name": "stdout",
     "output_type": "stream",
     "text": [
      "The Given Character  RAM is a Uppercase Alphabet\n"
     ]
    }
   ],
   "source": [
    "ch = input(\"Please Enter Your Own Character : \")\n",
    "\n",
    "if(ch >= 'A' and ch <= 'Z'):\n",
    "    print(\"The Given Character \", ch, \"is a Uppercase Alphabet\")\n",
    "else:\n",
    "    print(\"The Given Character \", ch, \"is Not a Uppercase Alphabet\")"
   ]
  }
 ],
 "metadata": {
  "kernelspec": {
   "display_name": "Python 3.9.12 ('base')",
   "language": "python",
   "name": "python3"
  },
  "language_info": {
   "codemirror_mode": {
    "name": "ipython",
    "version": 3
   },
   "file_extension": ".py",
   "mimetype": "text/x-python",
   "name": "python",
   "nbconvert_exporter": "python",
   "pygments_lexer": "ipython3",
   "version": "3.9.12"
  },
  "vscode": {
   "interpreter": {
    "hash": "57bc2b6ce032b5f0e93daa91901b7ea38a856826ef43aa9e95b6d3999f5310df"
   }
  }
 },
 "nbformat": 4,
 "nbformat_minor": 5
}
